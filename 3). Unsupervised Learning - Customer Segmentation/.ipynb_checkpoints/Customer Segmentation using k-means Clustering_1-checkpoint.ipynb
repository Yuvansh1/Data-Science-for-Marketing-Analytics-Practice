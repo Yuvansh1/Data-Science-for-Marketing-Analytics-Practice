{
 "cells": [
  {
   "cell_type": "markdown",
   "metadata": {},
   "source": [
    "K Means clustering is an algorithm that tries to find the best way of grouping data points into k different groups where k is a parameter giving to the algorithm."
   ]
  },
  {
   "cell_type": "code",
   "execution_count": 1,
   "metadata": {},
   "outputs": [],
   "source": [
    "import pandas as pd\n",
    "ageinc_df = pd.read_csv('ageinc.csv')"
   ]
  },
  {
   "cell_type": "code",
   "execution_count": 2,
   "metadata": {},
   "outputs": [],
   "source": [
    "#standardization process for z_income, z_age\n",
    "ageinc_df['z_income'] = (ageinc_df['income'] - ageinc_df['income'].mean())/ageinc_df['income'].std()\n",
    "ageinc_df['z_age'] = (ageinc_df['age'] - ageinc_df['age'].mean())/ageinc_df['age'].std()"
   ]
  },
  {
   "cell_type": "code",
   "execution_count": 3,
   "metadata": {},
   "outputs": [
    {
     "data": {
      "image/png": "[encoded data removed]",
      "text/plain": [
       "<Figure size 432x288 with 1 Axes>"
      ]
     },
     "metadata": {
      "needs_background": "light"
     },
     "output_type": "display_data"
    }
   ],
   "source": [
    "import matplotlib.pyplot as plt\n",
    "%matplotlib inline\n",
    "\n",
    "plt.scatter(ageinc_df['income'], ageinc_df['age'])\n",
    "plt.xlabel('Income')\n",
    "plt.ylabel('Age')\n",
    "plt.show()"
   ]
  },
  {
   "cell_type": "markdown",
   "metadata": {},
   "source": [
    "## K Means Clustering on Standardization variable of Income and Age"
   ]
  },
  {
   "cell_type": "code",
   "execution_count": 4,
   "metadata": {},
   "outputs": [
    {
     "data": {
      "text/plain": [
       "KMeans(algorithm='auto', copy_x=True, init='k-means++', max_iter=300,\n",
       "       n_clusters=4, n_init=10, n_jobs=None, precompute_distances='auto',\n",
       "       random_state=10, tol=0.0001, verbose=0)"
      ]
     },
     "execution_count": 4,
     "metadata": {},
     "output_type": "execute_result"
    }
   ],
   "source": [
    "from sklearn import cluster\n",
    "\n",
    "model = cluster.KMeans(n_clusters=4, random_state=10)\n",
    "model.fit(ageinc_df[['z_income','z_age']])"
   ]
  },
  {
   "cell_type": "code",
   "execution_count": 21,
   "metadata": {},
   "outputs": [
    {
     "data": {
      "text/html": [
       "<div>\n",
       "<style scoped>\n",
       "    .dataframe tbody tr th:only-of-type {\n",
       "        vertical-align: middle;\n",
       "    }\n",
       "\n",
       "    .dataframe tbody tr th {\n",
       "        vertical-align: top;\n",
       "    }\n",
       "\n",
       "    .dataframe thead th {\n",
       "        text-align: right;\n",
       "    }\n",
       "</style>\n",
       "<table border=\"1\" class=\"dataframe\">\n",
       "  <thead>\n",
       "    <tr style=\"text-align: right;\">\n",
       "      <th></th>\n",
       "      <th>income</th>\n",
       "      <th>age</th>\n",
       "      <th>z_income</th>\n",
       "      <th>z_age</th>\n",
       "      <th>cluster</th>\n",
       "    </tr>\n",
       "  </thead>\n",
       "  <tbody>\n",
       "    <tr>\n",
       "      <th>1</th>\n",
       "      <td>49597</td>\n",
       "      <td>27</td>\n",
       "      <td>-0.777331</td>\n",
       "      <td>-1.130565</td>\n",
       "      <td>1</td>\n",
       "    </tr>\n",
       "    <tr>\n",
       "      <th>5</th>\n",
       "      <td>38361</td>\n",
       "      <td>26</td>\n",
       "      <td>-1.063508</td>\n",
       "      <td>-1.221666</td>\n",
       "      <td>1</td>\n",
       "    </tr>\n",
       "    <tr>\n",
       "      <th>6</th>\n",
       "      <td>48579</td>\n",
       "      <td>29</td>\n",
       "      <td>-0.803259</td>\n",
       "      <td>-0.948363</td>\n",
       "      <td>1</td>\n",
       "    </tr>\n",
       "    <tr>\n",
       "      <th>8</th>\n",
       "      <td>11527</td>\n",
       "      <td>31</td>\n",
       "      <td>-1.746962</td>\n",
       "      <td>-0.766161</td>\n",
       "      <td>1</td>\n",
       "    </tr>\n",
       "    <tr>\n",
       "      <th>10</th>\n",
       "      <td>11783</td>\n",
       "      <td>29</td>\n",
       "      <td>-1.740442</td>\n",
       "      <td>-0.948363</td>\n",
       "      <td>1</td>\n",
       "    </tr>\n",
       "    <tr>\n",
       "      <th>...</th>\n",
       "      <td>...</td>\n",
       "      <td>...</td>\n",
       "      <td>...</td>\n",
       "      <td>...</td>\n",
       "      <td>...</td>\n",
       "    </tr>\n",
       "    <tr>\n",
       "      <th>987</th>\n",
       "      <td>27683</td>\n",
       "      <td>39</td>\n",
       "      <td>-1.335474</td>\n",
       "      <td>-0.037351</td>\n",
       "      <td>1</td>\n",
       "    </tr>\n",
       "    <tr>\n",
       "      <th>989</th>\n",
       "      <td>51601</td>\n",
       "      <td>19</td>\n",
       "      <td>-0.726289</td>\n",
       "      <td>-1.859374</td>\n",
       "      <td>1</td>\n",
       "    </tr>\n",
       "    <tr>\n",
       "      <th>995</th>\n",
       "      <td>70615</td>\n",
       "      <td>29</td>\n",
       "      <td>-0.242008</td>\n",
       "      <td>-0.948363</td>\n",
       "      <td>1</td>\n",
       "    </tr>\n",
       "    <tr>\n",
       "      <th>997</th>\n",
       "      <td>42203</td>\n",
       "      <td>35</td>\n",
       "      <td>-0.965654</td>\n",
       "      <td>-0.401756</td>\n",
       "      <td>1</td>\n",
       "    </tr>\n",
       "    <tr>\n",
       "      <th>998</th>\n",
       "      <td>16975</td>\n",
       "      <td>31</td>\n",
       "      <td>-1.608203</td>\n",
       "      <td>-0.766161</td>\n",
       "      <td>1</td>\n",
       "    </tr>\n",
       "  </tbody>\n",
       "</table>\n",
       "<p>248 rows × 5 columns</p>\n",
       "</div>"
      ],
      "text/plain": [
       "     income  age  z_income     z_age  cluster\n",
       "1     49597   27 -0.777331 -1.130565        1\n",
       "5     38361   26 -1.063508 -1.221666        1\n",
       "6     48579   29 -0.803259 -0.948363        1\n",
       "8     11527   31 -1.746962 -0.766161        1\n",
       "10    11783   29 -1.740442 -0.948363        1\n",
       "..      ...  ...       ...       ...      ...\n",
       "987   27683   39 -1.335474 -0.037351        1\n",
       "989   51601   19 -0.726289 -1.859374        1\n",
       "995   70615   29 -0.242008 -0.948363        1\n",
       "997   42203   35 -0.965654 -0.401756        1\n",
       "998   16975   31 -1.608203 -0.766161        1\n",
       "\n",
       "[248 rows x 5 columns]"
      ]
     },
     "execution_count": 21,
     "metadata": {},
     "output_type": "execute_result"
    }
   ],
   "source": [
    "ageinc_df[ageinc_df['cluster'] == 1]"
   ]
  },
  {
   "cell_type": "code",
   "execution_count": 5,
   "metadata": {
    "scrolled": true
   },
   "outputs": [
    {
     "data": {
      "text/html": [
       "<div>\n",
       "<style scoped>\n",
       "    .dataframe tbody tr th:only-of-type {\n",
       "        vertical-align: middle;\n",
       "    }\n",
       "\n",
       "    .dataframe tbody tr th {\n",
       "        vertical-align: top;\n",
       "    }\n",
       "\n",
       "    .dataframe thead th {\n",
       "        text-align: right;\n",
       "    }\n",
       "</style>\n",
       "<table border=\"1\" class=\"dataframe\">\n",
       "  <thead>\n",
       "    <tr style=\"text-align: right;\">\n",
       "      <th></th>\n",
       "      <th>income</th>\n",
       "      <th>age</th>\n",
       "      <th>z_income</th>\n",
       "      <th>z_age</th>\n",
       "      <th>cluster</th>\n",
       "    </tr>\n",
       "  </thead>\n",
       "  <tbody>\n",
       "    <tr>\n",
       "      <th>0</th>\n",
       "      <td>101743</td>\n",
       "      <td>58</td>\n",
       "      <td>0.550812</td>\n",
       "      <td>1.693570</td>\n",
       "      <td>0</td>\n",
       "    </tr>\n",
       "    <tr>\n",
       "      <th>1</th>\n",
       "      <td>49597</td>\n",
       "      <td>27</td>\n",
       "      <td>-0.777331</td>\n",
       "      <td>-1.130565</td>\n",
       "      <td>1</td>\n",
       "    </tr>\n",
       "    <tr>\n",
       "      <th>2</th>\n",
       "      <td>36517</td>\n",
       "      <td>52</td>\n",
       "      <td>-1.110474</td>\n",
       "      <td>1.146963</td>\n",
       "      <td>2</td>\n",
       "    </tr>\n",
       "    <tr>\n",
       "      <th>3</th>\n",
       "      <td>33223</td>\n",
       "      <td>49</td>\n",
       "      <td>-1.194372</td>\n",
       "      <td>0.873660</td>\n",
       "      <td>2</td>\n",
       "    </tr>\n",
       "    <tr>\n",
       "      <th>4</th>\n",
       "      <td>72994</td>\n",
       "      <td>53</td>\n",
       "      <td>-0.181416</td>\n",
       "      <td>1.238064</td>\n",
       "      <td>2</td>\n",
       "    </tr>\n",
       "  </tbody>\n",
       "</table>\n",
       "</div>"
      ],
      "text/plain": [
       "   income  age  z_income     z_age  cluster\n",
       "0  101743   58  0.550812  1.693570        0\n",
       "1   49597   27 -0.777331 -1.130565        1\n",
       "2   36517   52 -1.110474  1.146963        2\n",
       "3   33223   49 -1.194372  0.873660        2\n",
       "4   72994   53 -0.181416  1.238064        2"
      ]
     },
     "execution_count": 5,
     "metadata": {},
     "output_type": "execute_result"
    }
   ],
   "source": [
    "ageinc_df['cluster'] = model.labels_\n",
    "ageinc_df.head()\n"
   ]
  },
  {
   "cell_type": "code",
   "execution_count": 6,
   "metadata": {},
   "outputs": [
    {
     "data": {
      "image/png": "[encoded data removed]",
      "text/plain": [
       "<Figure size 432x288 with 1 Axes>"
      ]
     },
     "metadata": {},
     "output_type": "display_data"
    }
   ],
   "source": [
    "colors = ['r', 'b', 'k', 'g']\n",
    "markers = ['^', 'o', 'd', 's']\n",
    "\n",
    "for c in ageinc_df['cluster'].unique():\n",
    "    d = ageinc_df[ageinc_df['cluster'] == c]\n",
    "    plt.scatter(d['income'], d['age'], marker=markers[c], color=colors[c])\n",
    "    \n",
    "plt.xlabel('Income')\n",
    "plt.ylabel('Age')\n",
    "plt.show()"
   ]
  },
  {
   "cell_type": "code",
   "execution_count": null,
   "metadata": {},
   "outputs": [],
   "source": []
  }
 ],
 "metadata": {
  "kernelspec": {
   "display_name": "Python 3",
   "language": "python",
   "name": "python3"
  },
  "language_info": {
   "codemirror_mode": {
    "name": "ipython",
    "version": 3
   },
   "file_extension": ".py",
   "mimetype": "text/x-python",
   "name": "python",
   "nbconvert_exporter": "python",
   "pygments_lexer": "ipython3",
   "version": "3.7.6"
  }
 },
 "nbformat": 4,
 "nbformat_minor": 1
}
