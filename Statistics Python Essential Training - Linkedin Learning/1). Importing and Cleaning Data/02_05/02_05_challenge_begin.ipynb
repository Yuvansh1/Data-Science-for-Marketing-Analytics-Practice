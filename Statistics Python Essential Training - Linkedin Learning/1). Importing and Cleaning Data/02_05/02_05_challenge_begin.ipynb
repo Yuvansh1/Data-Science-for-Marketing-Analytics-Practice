{
 "cells": [
  {
   "cell_type": "markdown",
   "metadata": {},
   "source": [
    "## Python statistics essential training - 02_05_challenge"
   ]
  },
  {
   "cell_type": "markdown",
   "metadata": {},
   "source": [
    "Standard imports"
   ]
  },
  {
   "cell_type": "code",
   "execution_count": 2,
   "metadata": {},
   "outputs": [],
   "source": [
    "import numpy as np\n",
    "import pandas as pd\n",
    "\n",
    "import matplotlib\n",
    "import matplotlib.pyplot as pp\n",
    "\n",
    "%matplotlib inline"
   ]
  },
  {
   "cell_type": "code",
   "execution_count": 8,
   "metadata": {
    "scrolled": true
   },
   "outputs": [],
   "source": [
    "mail_data = pd.read_csv('tb.csv')"
   ]
  },
  {
   "cell_type": "code",
   "execution_count": 9,
   "metadata": {
    "scrolled": true
   },
   "outputs": [
    {
     "data": {
      "text/plain": [
       "Index(['country', 'year', 'm04', 'm514', 'm014', 'm1524', 'm2534', 'm3544',\n",
       "       'm4554', 'm5564', 'm65', 'mu', 'f04', 'f514', 'f014', 'f1524', 'f2534',\n",
       "       'f3544', 'f4554', 'f5564', 'f65', 'fu'],\n",
       "      dtype='object')"
      ]
     },
     "execution_count": 9,
     "metadata": {},
     "output_type": "execute_result"
    }
   ],
   "source": [
    "mail_data.columns"
   ]
  },
  {
   "cell_type": "code",
   "execution_count": null,
   "metadata": {},
   "outputs": [],
   "source": [
    "mail_data.melt(['country','year'],['wk1','wk2','wk3'],'week','rank')"
   ]
  },
  {
   "cell_type": "code",
   "execution_count": 12,
   "metadata": {},
   "outputs": [
    {
     "data": {
      "text/plain": [
       "array([      nan, 0.000e+00, 2.000e+00, 4.000e+00, 1.000e+00, 4.800e+01,\n",
       "       6.300e+01, 5.800e+01, 3.000e+00, 7.500e+01, 5.000e+00, 6.000e+00,\n",
       "       9.000e+00, 2.070e+02, 1.960e+02, 1.830e+02, 2.300e+01, 7.000e+00,\n",
       "       1.000e+01, 1.400e+01, 3.500e+01, 1.300e+01, 1.700e+01, 1.100e+01,\n",
       "       1.220e+02, 1.150e+02, 1.900e+01, 1.600e+01, 7.800e+01, 8.200e+01,\n",
       "       6.360e+02, 7.100e+02, 2.000e+01, 8.000e+00, 1.200e+01, 4.510e+02,\n",
       "       4.110e+02, 4.300e+02, 1.800e+01, 3.100e+01, 1.040e+02, 2.100e+01,\n",
       "       6.900e+01, 7.000e+01, 4.600e+01, 1.020e+02, 1.210e+02, 6.100e+01,\n",
       "       5.500e+01, 8.400e+01, 6.200e+01, 1.370e+02, 1.600e+02, 3.000e+01,\n",
       "       3.640e+02, 3.850e+02, 7.400e+01, 2.600e+01, 4.400e+01, 2.900e+01,\n",
       "       2.770e+02, 4.300e+01, 6.500e+01, 2.800e+01, 3.200e+01, 3.800e+01,\n",
       "       3.700e+01, 4.100e+01, 2.690e+02, 2.400e+01, 1.407e+03, 5.940e+02,\n",
       "       1.519e+03, 1.320e+02])"
      ]
     },
     "execution_count": 12,
     "metadata": {},
     "output_type": "execute_result"
    }
   ],
   "source": [
    "mail_data['m514'].unique()"
   ]
  }
 ],
 "metadata": {
  "kernelspec": {
   "display_name": "Python 3",
   "language": "python",
   "name": "python3"
  },
  "language_info": {
   "codemirror_mode": {
    "name": "ipython",
    "version": 3
   },
   "file_extension": ".py",
   "mimetype": "text/x-python",
   "name": "python",
   "nbconvert_exporter": "python",
   "pygments_lexer": "ipython3",
   "version": "3.7.6"
  },
  "toc": {
   "base_numbering": 1,
   "nav_menu": {},
   "number_sections": true,
   "sideBar": true,
   "skip_h1_title": false,
   "title_cell": "Table of Contents",
   "title_sidebar": "Contents",
   "toc_cell": false,
   "toc_position": {},
   "toc_section_display": true,
   "toc_window_display": false
  }
 },
 "nbformat": 4,
 "nbformat_minor": 2
}
